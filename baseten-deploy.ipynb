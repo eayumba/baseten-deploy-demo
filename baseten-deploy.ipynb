{
 "cells": [
  {
   "cell_type": "code",
   "execution_count": 2,
   "metadata": {},
   "outputs": [],
   "source": [
    "# IMPORTS\n",
    "import baseten, truss\n",
    "import pickle"
   ]
  },
  {
   "cell_type": "code",
   "execution_count": 23,
   "metadata": {},
   "outputs": [
    {
     "name": "stderr",
     "output_type": "stream",
     "text": [
      "\u001b[32mINFO\u001b[0m API key set.\n"
     ]
    }
   ],
   "source": [
    "# LOGIN to Baseten model using API Key\n",
    "baseten.login(\"MODEL_API_KEY\")"
   ]
  },
  {
   "cell_type": "code",
   "execution_count": 10,
   "metadata": {},
   "outputs": [
    {
     "name": "stderr",
     "output_type": "stream",
     "text": [
      "/opt/anaconda3/envs/baseten-demo/lib/python3.10/site-packages/sklearn/base.py:288: UserWarning: Trying to unpickle estimator SVC from version 1.0.1 when using version 1.2.0. This might lead to breaking code or invalid results. Use at your own risk. For more info please refer to:\n",
      "https://scikit-learn.org/stable/model_persistence.html#security-maintainability-limitations\n",
      "  warnings.warn(\n"
     ]
    }
   ],
   "source": [
    "# LOAD trained model: load a callable version of the model to be launched\n",
    "with open(\"model_files/classifier_model.pk\", \"rb\") as f:\n",
    "    my_model = pickle.load(f)"
   ]
  },
  {
   "cell_type": "code",
   "execution_count": 11,
   "metadata": {},
   "outputs": [],
   "source": [
    "# CREATE a truss (Baseten deployment scaffolding) for the model\n",
    "model_name_truss = truss.create(my_model, target_directory='./model_name_truss/')"
   ]
  },
  {
   "cell_type": "code",
   "execution_count": 24,
   "metadata": {},
   "outputs": [
    {
     "name": "stderr",
     "output_type": "stream",
     "text": [
      "\u001b[32mINFO\u001b[0m Serializing \u001b[34musa-jobs-location-classifier\u001b[0m truss.\n",
      "\u001b[32mINFO\u001b[0m Making contact with BaseTen 👋 👽\n",
      "\u001b[32mINFO\u001b[0m 🚀 Uploading model to BaseTen 🚀\n",
      "Upload Progress: 100% |\u001b[34m████████████████████████████████████████████████████████████████████████████████████████████████████\u001b[39m| 4.19M/4.19M\n",
      "\u001b[32mINFO\u001b[0m 🔮 Upload successful!🔮\n",
      "\u001b[32mINFO\u001b[0m Successfully created version \u001b[34me3mn72w\u001b[0m for usa-jobs-location-classifier.\n",
      "\u001b[32mINFO\u001b[0m \u001b[34m Deploying model version.\n",
      "\u001b[32mINFO\u001b[0m 🏁 The model is being built and deployed right now 🏁\n",
      "\u001b[32mINFO\u001b[0m -----------------------------------------------------------------------\n",
      "\u001b[32mINFO\u001b[0m |  Visit \u001b[34mhttps://app.baseten.co/models/RqgNpQP\u001b[0m for deployment status  |\n",
      "\u001b[32mINFO\u001b[0m -----------------------------------------------------------------------\n"
     ]
    },
    {
     "data": {
      "text/plain": [
       "BasetenDeployedModel<\n",
       "  model_version_id=e3mn72w\n",
       "  name=usa-jobs-location-classifier\n",
       ">"
      ]
     },
     "execution_count": 24,
     "metadata": {},
     "output_type": "execute_result"
    }
   ],
   "source": [
    "# DEPLOY the model to Baseten\n",
    "baseten.deploy(\n",
    "    model_name_truss,\n",
    "    model_name='model-name-in-baseten',\n",
    ")"
   ]
  },
  {
   "cell_type": "code",
   "execution_count": 9,
   "metadata": {},
   "outputs": [],
   "source": [
    "# TEST the deployed model: preprocess model input\n",
    "\n",
    "\n",
    "# jobs_classifier_model preprocess example:\n",
    "# from preprocessing import Preprocess\n",
    "\n",
    "# text = \"\"\"\n",
    "#     FBI Special Agents apply their professional expertise and unique skill sets to their work every day and that \n",
    "#     includes law enforcement and military backgrounzds. We're currently seeking police officers, military \n",
    "#     veterans (Special Forces, explosives, WMD, intelligence) and pilots (helicopter and fixed-wing). \n",
    "#     Apply your tactical skills, leadership, integrity and teamwork to gathering evidence or helping to \n",
    "#     # dismantle a criminal enterprise.Special Agent - Law Enforcement or Military Veteran BackgroundCriminal Investigation\n",
    "# \"\"\"\n",
    "# text_input = [text]\n",
    "# text_input = [Preprocess(t).text.lower() for t in text_input]\n",
    "# clean_input = text_input\n",
    "\n",
    "\n",
    "\n",
    "# Baseten model_input should be formatted like so\n",
    "clean_input = \"Replace this string with pre_processed input variable\"\n",
    "model_input = {\"inputs\": clean_input}"
   ]
  },
  {
   "cell_type": "code",
   "execution_count": 11,
   "metadata": {},
   "outputs": [
    {
     "name": "stdout",
     "output_type": "stream",
     "text": [
      "{'predictions': [0], 'probabilities': [[0.9868674410232201, 0.013132558976779882]]}\n"
     ]
    }
   ],
   "source": [
    "# TEST the deployed model: Feed input and check output, any post-processing not involving other models can be placed here as well\n",
    "model = baseten.deployed_model_id('MODEL_ID')\n",
    "print(model.predict(model_input))"
   ]
  }
 ],
 "metadata": {
  "kernelspec": {
   "display_name": "baseten-demo",
   "language": "python",
   "name": "python3"
  },
  "language_info": {
   "codemirror_mode": {
    "name": "ipython",
    "version": 3
   },
   "file_extension": ".py",
   "mimetype": "text/x-python",
   "name": "python",
   "nbconvert_exporter": "python",
   "pygments_lexer": "ipython3",
   "version": "3.10.9"
  },
  "orig_nbformat": 4,
  "vscode": {
   "interpreter": {
    "hash": "91f385bedf6cb97f8919b0ff786def4cfaf08fc226f693577738509cee128c8f"
   }
  }
 },
 "nbformat": 4,
 "nbformat_minor": 2
}
